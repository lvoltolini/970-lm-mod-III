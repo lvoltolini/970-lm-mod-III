{
  "cells": [
    {
      "cell_type": "markdown",
      "id": "8030d55b",
      "metadata": {
        "id": "8030d55b"
      },
      "source": [
        "# Projeto Técnicas de programação I\n",
        "\n",
        "## Análise exploratória de dados/Pandas\n",
        "\n",
        "Nomes:\n",
        "\n",
        "Turma:\n"
      ]
    },
    {
      "cell_type": "markdown",
      "id": "9d476103",
      "metadata": {
        "id": "9d476103"
      },
      "source": [
        "Nesse projeto trabalharemos com dados fictícios de investidores.\n",
        "\n",
        "São 3 arquivos que devem ser carregados para responder as perguntas abaixo.\n",
        "\n",
        "Para a entrega, coloque o notebook respondido no seu github (um por grupo)!"
      ]
    },
    {
      "cell_type": "markdown",
      "id": "ff348160",
      "metadata": {
        "id": "ff348160"
      },
      "source": [
        "Informações\n",
        "\n",
        "Cadastro:\n",
        "- **id** : Identificação do investidor\n",
        "- **Nome** : Nome completo do investidor \n",
        "- **Sexo** : Feminino ou masculino\n",
        "- **Nasc** : Data de nascimento\n",
        "- **Idade** : Idade do investidor \n",
        "- **Email** : E-mail do investidor\n",
        "- **Lat_long** : Dados geográficos do investidor\n",
        "- **Job** : Profisão do investidor ou do seu responsável (em inglês)\n",
        "- **Estado** : Estado onde o investidor reside\n",
        "\n",
        "Investimento:\n",
        "- **id** : Identificação do investidor\n",
        "- **Salario** : Renda do investidor ou seu responsável\n",
        "- **Perfil** : Perfil de investimento\n",
        "- **Ativo01, Ativo02, Ativo03, Ativo04, Ativo05, Ativo06, Ativo07** : O quanto de dinheiro o investidor colocou em cada ativo\n",
        "- **Nota1, Nota2** : O quanto o investidor está satisfeito com nossa empresa (2 avaliações)\n",
        "\n",
        "Lembrando que esses dados são irreais e fictícios\n"
      ]
    },
    {
      "cell_type": "markdown",
      "id": "2c93ad4b",
      "metadata": {
        "id": "2c93ad4b"
      },
      "source": [
        "Arquivo cadastro.csv\n",
        "\n",
        "\n",
        "Arquivo investimento.csv (dividido em 2 partes)"
      ]
    },
    {
      "cell_type": "markdown",
      "id": "ebdf2a14",
      "metadata": {
        "id": "ebdf2a14"
      },
      "source": [
        "### Critérios de avaliação\n",
        "\n",
        "Os seguintes itens serão avaliados:\n",
        "\n",
        "1. Reprodutibilidade do código: seu código será executado e precisa gerar os mesmos resultados apresentados por você;\n",
        "\n",
        "2. Clareza: seu código precisa ser claro e deve existir uma linha de raciocínio direta. Comente o código em pontos que julgar necessário para o entendimento total;\n",
        "\n",
        "3. Explicação de todos os processos feitos e decisões tomadas\n",
        "\n",
        "## Informações Gerais sobre o Projeto\n",
        "\n",
        "- O projeto poderá ser desenvolvido __individualmente__ ou em __grupos com até 4 pessoas__, caos façam em grupos enviar a relação de alunos do grupo para o professor;\n",
        "\n",
        "\n",
        "- Data de Entrega: 14/04/2023;\n",
        "\n",
        "- Entrega: Através do _Class_\n",
        "\n",
        "\n",
        "\n"
      ]
    },
    {
      "cell_type": "markdown",
      "id": "4ceb5d96",
      "metadata": {
        "id": "4ceb5d96"
      },
      "source": [
        "## 1 - Carregar os arquivos e cadastro, investimento1 e investimento2 e mostrar a quantidade de linhas de cada um, além das informações desses dataframes"
      ]
    },
    {
      "cell_type": "code",
      "execution_count": 5,
      "id": "61c059ab",
      "metadata": {
        "ExecuteTime": {
          "end_time": "2021-08-16T13:30:14.809532Z",
          "start_time": "2021-08-16T13:30:14.801117Z"
        },
        "id": "61c059ab"
      },
      "outputs": [],
      "source": [
        "# Pacotes gerados pelos alunos para testar os pacotes e carregar os arquivos: \n",
        "\n",
        "import Module\n",
        "from Module import inv1, inv2, cadastro\n",
        "\n",
        "# Pacotes recomendados pelo professor: \n",
        "\n",
        "import pandas as pd\n",
        "import datetime as dt"
      ]
    },
    {
      "cell_type": "code",
      "execution_count": 9,
      "id": "661e1871",
      "metadata": {},
      "outputs": [
        {
          "name": "stdout",
          "output_type": "stream",
          "text": [
            "--------------------------------------------------\n",
            "Planilha: cadastro: \n",
            "len: 38754\n",
            "Colunas : ['id', 'Nome', 'Sexo', 'Nasc', 'Idade', 'Email', 'Lat_long', 'Job', 'Estado']\n",
            "--------------------------------------------------\n",
            "Planilha: inv1: \n",
            "len: 20000\n",
            "Colunas : ['id', 'Salario', 'Perfil', 'Ativo01', 'Ativo02', 'Ativo03', 'Ativo04', 'Ativo05', 'Ativo06', 'Ativo07', 'Nota1', 'Nota2']\n",
            "--------------------------------------------------\n",
            "Planilha: inv2: \n",
            "len: 24052\n",
            "Colunas : ['id', 'Salario', 'Perfil', 'Ativo01', 'Ativo02', 'Ativo03', 'Ativo04', 'Ativo05', 'Ativo06', 'Ativo07', 'Nota1', 'Nota2']\n",
            "--------------------------------------------------\n"
          ]
        }
      ],
      "source": [
        "div = 50 * '-'\n",
        "\n",
        "print(div,\n",
        "      'Planilha: cadastro: ',\n",
        "      f'len: {len(cadastro)}',\n",
        "      f'Colunas : {list(cadastro.columns)}',\n",
        "      div,\n",
        "      'Planilha: inv1: ',\n",
        "      f'len: {len(inv1)}',\n",
        "      f'Colunas : {list(inv1.columns)}',\n",
        "      div,\n",
        "      'Planilha: inv2: ',\n",
        "      f'len: {len(inv2)}',\n",
        "      f'Colunas : {list(inv2.columns)}',\n",
        "      div,\n",
        "      sep = '\\n'\n",
        "      )"
      ]
    },
    {
      "cell_type": "markdown",
      "id": "de88ae37",
      "metadata": {
        "id": "de88ae37"
      },
      "source": [
        "## 2 - Juntar os dataframes de investimento1 e investimento2 em um só e ver a quantidade de linhas"
      ]
    },
    {
      "cell_type": "code",
      "execution_count": 10,
      "id": "e2c363da",
      "metadata": {
        "id": "e2c363da"
      },
      "outputs": [
        {
          "data": {
            "text/html": [
              "<div>\n",
              "<style scoped>\n",
              "    .dataframe tbody tr th:only-of-type {\n",
              "        vertical-align: middle;\n",
              "    }\n",
              "\n",
              "    .dataframe tbody tr th {\n",
              "        vertical-align: top;\n",
              "    }\n",
              "\n",
              "    .dataframe thead th {\n",
              "        text-align: right;\n",
              "    }\n",
              "</style>\n",
              "<table border=\"1\" class=\"dataframe\">\n",
              "  <thead>\n",
              "    <tr style=\"text-align: right;\">\n",
              "      <th></th>\n",
              "      <th>id</th>\n",
              "      <th>Salario</th>\n",
              "      <th>Perfil</th>\n",
              "      <th>Ativo01</th>\n",
              "      <th>Ativo02</th>\n",
              "      <th>Ativo03</th>\n",
              "      <th>Ativo04</th>\n",
              "      <th>Ativo05</th>\n",
              "      <th>Ativo06</th>\n",
              "      <th>Ativo07</th>\n",
              "      <th>Nota1</th>\n",
              "      <th>Nota2</th>\n",
              "    </tr>\n",
              "  </thead>\n",
              "  <tbody>\n",
              "    <tr>\n",
              "      <th>0</th>\n",
              "      <td>id0011529</td>\n",
              "      <td>$2.25</td>\n",
              "      <td>Agressivo</td>\n",
              "      <td>1311.38</td>\n",
              "      <td>NaN</td>\n",
              "      <td>NaN</td>\n",
              "      <td>29267.48</td>\n",
              "      <td>4993.30</td>\n",
              "      <td>NaN</td>\n",
              "      <td>506.40</td>\n",
              "      <td>73.007216</td>\n",
              "      <td>30.025005</td>\n",
              "    </tr>\n",
              "    <tr>\n",
              "      <th>1</th>\n",
              "      <td>id0030644</td>\n",
              "      <td>$24.57</td>\n",
              "      <td>Agressivo</td>\n",
              "      <td>1007.38</td>\n",
              "      <td>4846.66</td>\n",
              "      <td>2717.82</td>\n",
              "      <td>12532.15</td>\n",
              "      <td>4282.98</td>\n",
              "      <td>NaN</td>\n",
              "      <td>499.93</td>\n",
              "      <td>20.000123</td>\n",
              "      <td>29.477728</td>\n",
              "    </tr>\n",
              "    <tr>\n",
              "      <th>2</th>\n",
              "      <td>id0019311</td>\n",
              "      <td>$367.53</td>\n",
              "      <td>Moderado</td>\n",
              "      <td>1128.99</td>\n",
              "      <td>4668.94</td>\n",
              "      <td>3092.60</td>\n",
              "      <td>9777.77</td>\n",
              "      <td>4246.30</td>\n",
              "      <td>2007.83</td>\n",
              "      <td>509.50</td>\n",
              "      <td>24.901450</td>\n",
              "      <td>49.659852</td>\n",
              "    </tr>\n",
              "    <tr>\n",
              "      <th>3</th>\n",
              "      <td>id0036705</td>\n",
              "      <td>$23.26</td>\n",
              "      <td>Moderado</td>\n",
              "      <td>1185.26</td>\n",
              "      <td>4782.17</td>\n",
              "      <td>2669.05</td>\n",
              "      <td>14047.87</td>\n",
              "      <td>6026.84</td>\n",
              "      <td>2064.09</td>\n",
              "      <td>489.82</td>\n",
              "      <td>14.246718</td>\n",
              "      <td>29.271206</td>\n",
              "    </tr>\n",
              "    <tr>\n",
              "      <th>4</th>\n",
              "      <td>id0001368</td>\n",
              "      <td>$6.31</td>\n",
              "      <td>Conservador</td>\n",
              "      <td>957.64</td>\n",
              "      <td>5585.52</td>\n",
              "      <td>NaN</td>\n",
              "      <td>5067.08</td>\n",
              "      <td>4030.51</td>\n",
              "      <td>2022.61</td>\n",
              "      <td>507.39</td>\n",
              "      <td>5.922253</td>\n",
              "      <td>11.840601</td>\n",
              "    </tr>\n",
              "    <tr>\n",
              "      <th>...</th>\n",
              "      <td>...</td>\n",
              "      <td>...</td>\n",
              "      <td>...</td>\n",
              "      <td>...</td>\n",
              "      <td>...</td>\n",
              "      <td>...</td>\n",
              "      <td>...</td>\n",
              "      <td>...</td>\n",
              "      <td>...</td>\n",
              "      <td>...</td>\n",
              "      <td>...</td>\n",
              "      <td>...</td>\n",
              "    </tr>\n",
              "    <tr>\n",
              "      <th>19995</th>\n",
              "      <td>id0027243</td>\n",
              "      <td>$334.62</td>\n",
              "      <td>Conservador</td>\n",
              "      <td>1406.60</td>\n",
              "      <td>5314.55</td>\n",
              "      <td>3166.72</td>\n",
              "      <td>22356.01</td>\n",
              "      <td>4993.03</td>\n",
              "      <td>NaN</td>\n",
              "      <td>508.21</td>\n",
              "      <td>NaN</td>\n",
              "      <td>81.009106</td>\n",
              "    </tr>\n",
              "    <tr>\n",
              "      <th>19996</th>\n",
              "      <td>id0027322</td>\n",
              "      <td>$281.18</td>\n",
              "      <td>Agressivo</td>\n",
              "      <td>857.37</td>\n",
              "      <td>6045.98</td>\n",
              "      <td>3052.01</td>\n",
              "      <td>11084.71</td>\n",
              "      <td>4678.42</td>\n",
              "      <td>NaN</td>\n",
              "      <td>506.94</td>\n",
              "      <td>48.641983</td>\n",
              "      <td>NaN</td>\n",
              "    </tr>\n",
              "    <tr>\n",
              "      <th>19997</th>\n",
              "      <td>id0037205</td>\n",
              "      <td>$464.70</td>\n",
              "      <td>Agressivo</td>\n",
              "      <td>NaN</td>\n",
              "      <td>NaN</td>\n",
              "      <td>3655.41</td>\n",
              "      <td>13124.58</td>\n",
              "      <td>5579.33</td>\n",
              "      <td>2188.45</td>\n",
              "      <td>511.30</td>\n",
              "      <td>74.618662</td>\n",
              "      <td>80.220031</td>\n",
              "    </tr>\n",
              "    <tr>\n",
              "      <th>19998</th>\n",
              "      <td>id0010187</td>\n",
              "      <td>$940.72</td>\n",
              "      <td>Conservador</td>\n",
              "      <td>1416.94</td>\n",
              "      <td>4772.79</td>\n",
              "      <td>3049.52</td>\n",
              "      <td>21053.61</td>\n",
              "      <td>6532.92</td>\n",
              "      <td>NaN</td>\n",
              "      <td>486.77</td>\n",
              "      <td>2.464077</td>\n",
              "      <td>55.905051</td>\n",
              "    </tr>\n",
              "    <tr>\n",
              "      <th>19999</th>\n",
              "      <td>id0009375</td>\n",
              "      <td>$56.39</td>\n",
              "      <td>Moderado</td>\n",
              "      <td>812.14</td>\n",
              "      <td>5461.14</td>\n",
              "      <td>3455.45</td>\n",
              "      <td>28370.73</td>\n",
              "      <td>4468.04</td>\n",
              "      <td>NaN</td>\n",
              "      <td>509.97</td>\n",
              "      <td>8.931671</td>\n",
              "      <td>49.578415</td>\n",
              "    </tr>\n",
              "  </tbody>\n",
              "</table>\n",
              "<p>20000 rows × 12 columns</p>\n",
              "</div>"
            ],
            "text/plain": [
              "              id  Salario       Perfil  Ativo01  Ativo02  Ativo03   Ativo04  \\\n",
              "0      id0011529    $2.25    Agressivo  1311.38      NaN      NaN  29267.48   \n",
              "1      id0030644   $24.57    Agressivo  1007.38  4846.66  2717.82  12532.15   \n",
              "2      id0019311  $367.53     Moderado  1128.99  4668.94  3092.60   9777.77   \n",
              "3      id0036705   $23.26     Moderado  1185.26  4782.17  2669.05  14047.87   \n",
              "4      id0001368    $6.31  Conservador   957.64  5585.52      NaN   5067.08   \n",
              "...          ...      ...          ...      ...      ...      ...       ...   \n",
              "19995  id0027243  $334.62  Conservador  1406.60  5314.55  3166.72  22356.01   \n",
              "19996  id0027322  $281.18    Agressivo   857.37  6045.98  3052.01  11084.71   \n",
              "19997  id0037205  $464.70    Agressivo      NaN      NaN  3655.41  13124.58   \n",
              "19998  id0010187  $940.72  Conservador  1416.94  4772.79  3049.52  21053.61   \n",
              "19999  id0009375   $56.39     Moderado   812.14  5461.14  3455.45  28370.73   \n",
              "\n",
              "       Ativo05  Ativo06  Ativo07      Nota1      Nota2  \n",
              "0      4993.30      NaN   506.40  73.007216  30.025005  \n",
              "1      4282.98      NaN   499.93  20.000123  29.477728  \n",
              "2      4246.30  2007.83   509.50  24.901450  49.659852  \n",
              "3      6026.84  2064.09   489.82  14.246718  29.271206  \n",
              "4      4030.51  2022.61   507.39   5.922253  11.840601  \n",
              "...        ...      ...      ...        ...        ...  \n",
              "19995  4993.03      NaN   508.21        NaN  81.009106  \n",
              "19996  4678.42      NaN   506.94  48.641983        NaN  \n",
              "19997  5579.33  2188.45   511.30  74.618662  80.220031  \n",
              "19998  6532.92      NaN   486.77   2.464077  55.905051  \n",
              "19999  4468.04      NaN   509.97   8.931671  49.578415  \n",
              "\n",
              "[20000 rows x 12 columns]"
            ]
          },
          "execution_count": 10,
          "metadata": {},
          "output_type": "execute_result"
        }
      ],
      "source": [
        "inv1"
      ]
    },
    {
      "cell_type": "markdown",
      "id": "9a49fb0d",
      "metadata": {
        "id": "9a49fb0d"
      },
      "source": [
        "## 3 - Crie um novo dataframe eliminando as linhas duplicadas"
      ]
    },
    {
      "cell_type": "code",
      "execution_count": null,
      "id": "9d26e5d9",
      "metadata": {
        "id": "9d26e5d9"
      },
      "outputs": [],
      "source": []
    },
    {
      "cell_type": "markdown",
      "id": "d5c4abc4",
      "metadata": {
        "id": "d5c4abc4"
      },
      "source": [
        "## 4 - Junte o dataframe de investimento com o de cadastro\n",
        "Dica: use a chave id"
      ]
    },
    {
      "cell_type": "code",
      "execution_count": null,
      "id": "f21d58b4",
      "metadata": {
        "id": "f21d58b4"
      },
      "outputs": [],
      "source": []
    },
    {
      "cell_type": "markdown",
      "id": "0ce78c5c",
      "metadata": {
        "ExecuteTime": {
          "end_time": "2021-08-16T13:13:10.973171Z",
          "start_time": "2021-08-16T13:13:10.961165Z"
        },
        "id": "0ce78c5c"
      },
      "source": [
        "## 5 - Ordene o dataframe pelo id, de forma crescente e redefina o índice"
      ]
    },
    {
      "cell_type": "code",
      "execution_count": null,
      "id": "4d97062c",
      "metadata": {
        "id": "4d97062c"
      },
      "outputs": [],
      "source": []
    },
    {
      "cell_type": "markdown",
      "id": "c22a9a29",
      "metadata": {
        "id": "c22a9a29"
      },
      "source": [
        "## 6 - Faça uma análise dos dados faltantes e trate-os\n",
        "\n",
        "Mostre todas as colunas com dados faltantes, sua quantidade/porcentagem e como tratar (preencher) cada uma delas explicando sua estratégia"
      ]
    },
    {
      "cell_type": "code",
      "execution_count": null,
      "id": "c4bb5d14",
      "metadata": {
        "id": "c4bb5d14"
      },
      "outputs": [],
      "source": []
    },
    {
      "cell_type": "markdown",
      "id": "85ae4e81",
      "metadata": {
        "id": "85ae4e81"
      },
      "source": [
        "## 7 - Manipule os dados a seguir:\n",
        "- Criar coluna \"Total\" somando o valor de todos os ativos por investidor\n",
        "- Criar coluna \"Media\" com a média das notas 1 e 2\n",
        "- Criar coluna \"Dominio\" com apenas o domínio do email (dica: separar por @)\n",
        "- Mudar o nome da coluna \"Salário\" para \"Renda\" e tratar a coluna (sem caracter $ e tipo numérica)\n",
        "- Mudar os dados da coluna \"Sexo\" para Masculino e Feminino (tente usar o map)\n",
        "- Transformar os dados da coluna Media em inteiro\n",
        "- Criar coluna \"NPS\" onde o investidor é promotor se a média das notas é maior igual a 80, neutro se a média estiver entre 50 e 80, e detrator se for abaixo de 50\n"
      ]
    },
    {
      "cell_type": "code",
      "execution_count": null,
      "id": "0570d688",
      "metadata": {
        "id": "0570d688"
      },
      "outputs": [],
      "source": []
    },
    {
      "cell_type": "markdown",
      "id": "767fc018",
      "metadata": {
        "id": "767fc018"
      },
      "source": [
        "## 8 - Calcule os seguintes dados\n",
        "- Calcule o total investido em cada coluna Ativo (tente usar o apply)\n",
        "- Qual o menor valor investido em cada ativo?\n",
        "- Mostre a média e desvio padrão de cada ativo\n",
        "- Qual a idade do investidor mais velho?\n",
        "- Qual a mediana da coluna Média?"
      ]
    },
    {
      "cell_type": "code",
      "execution_count": null,
      "id": "992d886b",
      "metadata": {
        "id": "992d886b"
      },
      "outputs": [],
      "source": []
    },
    {
      "cell_type": "markdown",
      "id": "0f074caf",
      "metadata": {
        "id": "0f074caf"
      },
      "source": [
        "## 9 - Responder as perguntas abaixo\n",
        "\n",
        "- Quantos investidores são promotores?\n",
        "- Quantos investidores são do sexo feminino?\n",
        "- Quantos investidores investiram mais de 16000 no Ativo04?\n",
        "- Quantos investidores investiram mais de 16000 no Ativo04 e menos de 5000 no Ativo05?\n",
        "- Quantos investidores do sexo feminino tem mais de 25 anos e investiu menos de 10000? (bonus: por que esse dado seria importante para a estratégia da nossa empresa?\n",
        "\n",
        "- Quantos investidores tem em cada estado (dica: use groupby)\n",
        "- Qual é a soma do total investido por cada estado?\n",
        "- Como os investidores se distribuem em promotores, detratores e neutros?\n",
        "- Qual é a média do total investido por promotores, detratores e neutros?\n"
      ]
    },
    {
      "cell_type": "code",
      "execution_count": null,
      "id": "G6L0Qjjgyz1L",
      "metadata": {
        "id": "G6L0Qjjgyz1L"
      },
      "outputs": [],
      "source": []
    }
  ],
  "metadata": {
    "colab": {
      "provenance": []
    },
    "kernelspec": {
      "display_name": "Python 3",
      "language": "python",
      "name": "python3"
    },
    "language_info": {
      "codemirror_mode": {
        "name": "ipython",
        "version": 3
      },
      "file_extension": ".py",
      "mimetype": "text/x-python",
      "name": "python",
      "nbconvert_exporter": "python",
      "pygments_lexer": "ipython3",
      "version": "3.11.2"
    },
    "varInspector": {
      "cols": {
        "lenName": 16,
        "lenType": 16,
        "lenVar": 40
      },
      "kernels_config": {
        "python": {
          "delete_cmd_postfix": "",
          "delete_cmd_prefix": "del ",
          "library": "var_list.py",
          "varRefreshCmd": "print(var_dic_list())"
        },
        "r": {
          "delete_cmd_postfix": ") ",
          "delete_cmd_prefix": "rm(",
          "library": "var_list.r",
          "varRefreshCmd": "cat(var_dic_list()) "
        }
      },
      "types_to_exclude": [
        "module",
        "function",
        "builtin_function_or_method",
        "instance",
        "_Feature"
      ],
      "window_display": false
    }
  },
  "nbformat": 4,
  "nbformat_minor": 5
}
