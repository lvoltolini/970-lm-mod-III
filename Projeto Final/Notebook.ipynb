{
 "cells": [
  {
   "attachments": {},
   "cell_type": "markdown",
   "metadata": {},
   "source": [
    "# Pacotes necessários:\n",
    "\n",
    "### Verificar se a máquina possui os pacotes necessários para rodar o programa."
   ]
  },
  {
   "cell_type": "markdown",
   "metadata": {},
   "source": []
  },
  {
   "cell_type": "code",
   "execution_count": 1,
   "metadata": {},
   "outputs": [],
   "source": [
    "# Esta função encerra o programa.\n",
    "def fatal_error():\n",
    "    input('O programa encontrou um erro fatal e não pode continuar. Pressione uma tecla para encerrar o programa: ')\n",
    "    quit()\n",
    "    \n",
    "# Dicionário com os pacotes para baixar.\n",
    "\n",
    "packages_install_names = {\n",
    "    'pandas' : 'pandas',\n",
    "    'numpy' : 'numpy',\n",
    "    'os' : 'os',\n",
    "    'sys' : 'sys',\n",
    "    'matplotlib.pyplot' : 'matplotlib',\n",
    "    'seaborn' : 'seaborn',\n",
    "    'statsmodels' : 'statsmodels',\n",
    "    'scipy' : 'scipy',\n",
    "    'pypfopt': 'PyPortfolioOpt',\n",
    "    'functools' : 'functools'    \n",
    "}\n"
   ]
  },
  {
   "attachments": {},
   "cell_type": "markdown",
   "metadata": {},
   "source": [
    "### Função para checar os pacotes"
   ]
  },
  {
   "cell_type": "code",
   "execution_count": 2,
   "metadata": {},
   "outputs": [
    {
     "name": "stdout",
     "output_type": "stream",
     "text": [
      "Sucesso ao importar o pacote pandas.\n",
      "Sucesso ao importar o pacote numpy.\n",
      "Sucesso ao importar o pacote os.\n",
      "Sucesso ao importar o pacote sys.\n",
      "Sucesso ao importar o pacote matplotlib.pyplot.\n",
      "Sucesso ao importar o pacote seaborn.\n",
      "Sucesso ao importar o pacote statsmodels.\n",
      "Sucesso ao importar o pacote scipy.\n",
      "Sucesso ao importar o pacote pypfopt.\n",
      "Sucesso ao importar o pacote functools.\n"
     ]
    }
   ],
   "source": [
    "# Verificando se importlib está instalado\n",
    "\n",
    "try: import importlib\n",
    "except: fatal_error\n",
    "\n",
    "# Esta função verifica os pacotes necessários.\n",
    "\n",
    "def check_packages(packages):\n",
    "    for package in packages:\n",
    "        try: importlib.import_module(package)\n",
    "        except: print(f'Erro: O pacote {packages[package]} não está instalado. Tente instalá-lo utilizando o comando pip3 install {package} ')\n",
    "        else: print(f'Sucesso ao importar o pacote {package}.')\n",
    "        \n",
    "# Agora, verificamos se algum pacote possui erro:\n",
    "\n",
    "check_packages(packages_install_names)"
   ]
  },
  {
   "attachments": {},
   "cell_type": "markdown",
   "metadata": {},
   "source": [
    "# Importando os pacotes\n",
    "### Primeiro definimos os pacotes e os seus aliases."
   ]
  },
  {
   "cell_type": "code",
   "execution_count": 3,
   "metadata": {},
   "outputs": [
    {
     "name": "stdout",
     "output_type": "stream",
     "text": [
      "Sucesso ao importar pandas as pd.\n",
      "Sucesso ao importar numpy as np.\n",
      "Sucesso ao importar os as os.\n",
      "Sucesso ao importar sys as sys.\n",
      "Sucesso ao importar matplotlib.pyplot as plt.\n",
      "Sucesso ao importar seaborn as sns.\n",
      "Sucesso ao importar statsmodels as sm.\n",
      "Sucesso ao importar scipy.linalg as ln.\n",
      "Sucesso ao importar pypfopt as pypfopt.\n",
      "Sucesso ao importar functools as functools.\n"
     ]
    }
   ],
   "source": [
    "# Dict de pacotes: \n",
    "\n",
    "packages_import_names = {\n",
    "    'pandas' : 'pd',\n",
    "    'numpy' : 'np',\n",
    "    'os' : 'os',\n",
    "    'sys' : 'sys',\n",
    "    'matplotlib.pyplot' : 'plt',\n",
    "    'seaborn' : 'sns',\n",
    "    'statsmodels' : 'sm',\n",
    "    'scipy.linalg' : 'ln',\n",
    "    'pypfopt': 'pypfopt',\n",
    "    'functools' : 'functools'    \n",
    "}\n",
    "\n",
    "# Função para importar os pacotes:\n",
    "\n",
    "def import_packs(packages):\n",
    "    for package, alias in packages.items():\n",
    "        globals()[alias] = importlib.import_module(package)\n",
    "        print(f'Sucesso ao importar {package} as {alias}.')\n",
    "        \n",
    "        \n",
    "# Loop para os imports:\n",
    "\n",
    "import_packs(packages_import_names)\n",
    "    "
   ]
  },
  {
   "cell_type": "code",
   "execution_count": 4,
   "metadata": {},
   "outputs": [
    {
     "name": "stdout",
     "output_type": "stream",
     "text": [
      "              id  Salario       Perfil  Ativo01  Ativo02  Ativo03   Ativo04  \\\n",
      "0      id0011529    $2.25    Agressivo  1311.38      NaN      NaN  29267.48   \n",
      "1      id0030644   $24.57    Agressivo  1007.38  4846.66  2717.82  12532.15   \n",
      "2      id0019311  $367.53     Moderado  1128.99  4668.94  3092.60   9777.77   \n",
      "3      id0036705   $23.26     Moderado  1185.26  4782.17  2669.05  14047.87   \n",
      "4      id0001368    $6.31  Conservador   957.64  5585.52      NaN   5067.08   \n",
      "...          ...      ...          ...      ...      ...      ...       ...   \n",
      "19995  id0027243  $334.62  Conservador  1406.60  5314.55  3166.72  22356.01   \n",
      "19996  id0027322  $281.18    Agressivo   857.37  6045.98  3052.01  11084.71   \n",
      "19997  id0037205  $464.70    Agressivo      NaN      NaN  3655.41  13124.58   \n",
      "19998  id0010187  $940.72  Conservador  1416.94  4772.79  3049.52  21053.61   \n",
      "19999  id0009375   $56.39     Moderado   812.14  5461.14  3455.45  28370.73   \n",
      "\n",
      "       Ativo05  Ativo06  Ativo07      Nota1      Nota2  \n",
      "0      4993.30      NaN   506.40  73.007216  30.025005  \n",
      "1      4282.98      NaN   499.93  20.000123  29.477728  \n",
      "2      4246.30  2007.83   509.50  24.901450  49.659852  \n",
      "3      6026.84  2064.09   489.82  14.246718  29.271206  \n",
      "4      4030.51  2022.61   507.39   5.922253  11.840601  \n",
      "...        ...      ...      ...        ...        ...  \n",
      "19995  4993.03      NaN   508.21        NaN  81.009106  \n",
      "19996  4678.42      NaN   506.94  48.641983        NaN  \n",
      "19997  5579.33  2188.45   511.30  74.618662  80.220031  \n",
      "19998  6532.92      NaN   486.77   2.464077  55.905051  \n",
      "19999  4468.04      NaN   509.97   8.931671  49.578415  \n",
      "\n",
      "[20000 rows x 12 columns]\n"
     ]
    }
   ],
   "source": [
    "try: from Data import cadastro, inv1, inv2\n",
    "except: \n",
    "    fatal_error()\n",
    "else: print(inv1)\n"
   ]
  },
  {
   "cell_type": "markdown",
   "metadata": {},
   "source": []
  }
 ],
 "metadata": {
  "kernelspec": {
   "display_name": "Python 3",
   "language": "python",
   "name": "python3"
  },
  "language_info": {
   "codemirror_mode": {
    "name": "ipython",
    "version": 3
   },
   "file_extension": ".py",
   "mimetype": "text/x-python",
   "name": "python",
   "nbconvert_exporter": "python",
   "pygments_lexer": "ipython3",
   "version": "3.11.2"
  },
  "orig_nbformat": 4
 },
 "nbformat": 4,
 "nbformat_minor": 2
}
